{
 "cells": [
  {
   "cell_type": "markdown",
   "id": "594720fc",
   "metadata": {},
   "source": [
    "### Abaixo temos a função de predição que utiliza uma entrada nova em forma de dicionario e por meio do modelo treinado em 02_pipeline_modelo"
   ]
  },
  {
   "cell_type": "code",
   "execution_count": 1,
   "id": "ebe5385e",
   "metadata": {},
   "outputs": [
    {
     "name": "stdout",
     "output_type": "stream",
     "text": [
      "{'default': 1}\n"
     ]
    }
   ],
   "source": [
    "import joblib\n",
    "import pandas as pd\n",
    "# Biblioteca cloudpickle usada para importar as funções de pro processamento criadas no notebook 02_pipeline_modelo\n",
    "import cloudpickle \n",
    "import warnings\n",
    "\n",
    "#Ignorar avisos\n",
    "warnings.filterwarnings('ignore')\n",
    "\n",
    "# Carregar modelo e pré-processador\n",
    "with open(\"artifacts/pipeline_xgb.pkl\", \"rb\") as f:\n",
    "    model = cloudpickle.load(f)\n",
    "best_thr = joblib.load(\"artifacts/best_threshold_xgb.pkl\")\n",
    "\n",
    "# Função de predição\n",
    "def predicao_default(novos_dados: dict):\n",
    "    \n",
    "    # Recebe um dicionário com os dados de um novo cliente \n",
    "    # e predição final de defaullt.\n",
    "    \n",
    "    # transforma em DataFrame (1 linha)\n",
    "    X = pd.DataFrame([novos_dados])\n",
    "    \n",
    "    # gera probabilidade\n",
    "    prob_default = model.predict_proba(X)[:, 1][0]\n",
    "    \n",
    "    # converte em predição (0/1)\n",
    "    pred_default = int(prob_default >= best_thr)\n",
    "    \n",
    "    return {\"default\": pred_default}\n",
    "\n",
    "# Exemplo de uso\n",
    "novo_cliente = {\n",
    "    \"default_3months\": 0,\n",
    "    \"ioi_36months\": 136,\n",
    "    \"ioi_3months\": 11,\n",
    "    \"valor_por_vencer\": 23273,\n",
    "    \"valor_vencido\": 0,\n",
    "    \"valor_quitado\": 669644.16,\n",
    "    \"dividas_vencidas_qtd\": 2,\n",
    "    \"valor_total_pedido\": 14576.81,\n",
    "    \"month\": 4,\n",
    "    \"year\": 2017,\n",
    "    \"tipo_sociedade\": \"empresario (individual)\",\n",
    "    \"opcao_tributaria\": \"simples nacional\",\n",
    "    \"atividade_principal\": \"com de equipamentos de informatica\"\n",
    "}\n",
    "\n",
    "resultado = predicao_default(novo_cliente)\n",
    "print(resultado)\n"
   ]
  }
 ],
 "metadata": {
  "kernelspec": {
   "display_name": "base",
   "language": "python",
   "name": "python3"
  },
  "language_info": {
   "codemirror_mode": {
    "name": "ipython",
    "version": 3
   },
   "file_extension": ".py",
   "mimetype": "text/x-python",
   "name": "python",
   "nbconvert_exporter": "python",
   "pygments_lexer": "ipython3",
   "version": "3.12.7"
  }
 },
 "nbformat": 4,
 "nbformat_minor": 5
}
